{
 "cells": [
  {
   "cell_type": "code",
   "execution_count": 2,
   "metadata": {},
   "outputs": [],
   "source": [
    "from config import db_config\n",
    "from collections import defaultdict\n",
    "import pyodbc\n",
    "from beem.account import Account"
   ]
  },
  {
   "cell_type": "code",
   "execution_count": 3,
   "metadata": {},
   "outputs": [],
   "source": [
    "connection = pyodbc.connect(driver=db_config['driver'],\n",
    "                            server=db_config['server'],\n",
    "                            database=db_config['database'],\n",
    "                            uid=db_config['uid'],\n",
    "                            pwd=db_config['pwd'])"
   ]
  },
  {
   "cell_type": "code",
   "execution_count": 4,
   "metadata": {},
   "outputs": [],
   "source": [
    "cursor = connection.cursor()"
   ]
  },
  {
   "cell_type": "code",
   "execution_count": 5,
   "metadata": {},
   "outputs": [],
   "source": [
    "query = \"\"\"\\\n",
    "SELECT TOP 100 account\n",
    "FROM (\n",
    "       SELECT SUBSTRING(body, CHARINDEX('@', body) + 1, CHARINDEX(' leads', body) - CHARINDEX('@', body) - 1) as account, *\n",
    "       FROM Comments (NOLOCK)\n",
    "       WHERE depth > 0 AND\n",
    "             author = 'guard' AND CONTAINS(body, 'phishing')) C\n",
    "GROUP BY account\n",
    "ORDER BY COUNT(*) DESC\"\"\"\n",
    "\n",
    "with open('scammers.txt', 'w') as f:\n",
    "    f.write('\\n'.join(row[0] for row in cursor.execute(query)))"
   ]
  },
  {
   "cell_type": "code",
   "execution_count": 6,
   "metadata": {},
   "outputs": [
    {
     "ename": "TypeError",
     "evalue": "write() argument must be str, not generator",
     "output_type": "error",
     "traceback": [
      "\u001b[1;31m---------------------------------------------------------------------------\u001b[0m",
      "\u001b[1;31mTypeError\u001b[0m                                 Traceback (most recent call last)",
      "\u001b[1;32m<ipython-input-6-fcb92342e4d5>\u001b[0m in \u001b[0;36m<module>\u001b[1;34m()\u001b[0m\n\u001b[0;32m      6\u001b[0m \u001b[1;33m\u001b[0m\u001b[0m\n\u001b[0;32m      7\u001b[0m \u001b[1;32mwith\u001b[0m \u001b[0mopen\u001b[0m\u001b[1;33m(\u001b[0m\u001b[1;34m'content_creators.txt'\u001b[0m\u001b[1;33m,\u001b[0m \u001b[1;34m'w'\u001b[0m\u001b[1;33m)\u001b[0m \u001b[1;32mas\u001b[0m \u001b[0mf\u001b[0m\u001b[1;33m:\u001b[0m\u001b[1;33m\u001b[0m\u001b[0m\n\u001b[1;32m----> 8\u001b[1;33m     \u001b[0mf\u001b[0m\u001b[1;33m.\u001b[0m\u001b[0mwrite\u001b[0m\u001b[1;33m(\u001b[0m\u001b[0mrow\u001b[0m\u001b[1;33m[\u001b[0m\u001b[1;36m0\u001b[0m\u001b[1;33m]\u001b[0m \u001b[1;32mfor\u001b[0m \u001b[0mrow\u001b[0m \u001b[1;32min\u001b[0m \u001b[0mcursor\u001b[0m\u001b[1;33m.\u001b[0m\u001b[0mexecute\u001b[0m\u001b[1;33m(\u001b[0m\u001b[0mquery\u001b[0m\u001b[1;33m)\u001b[0m\u001b[1;33m)\u001b[0m\u001b[1;33m\u001b[0m\u001b[0m\n\u001b[0m",
      "\u001b[1;31mTypeError\u001b[0m: write() argument must be str, not generator"
     ]
    }
   ],
   "source": [
    "query = \"\"\"\\\n",
    "SELECT TOP 100 author\n",
    "FROM Comments (NOLOCK)\n",
    "WHERE depth = 0 AND\n",
    "      category in ('utopian-io', 'dtube', 'dlive')\n",
    "ORDER BY NEWID()\"\"\"\n",
    "\n",
    "with open('content_creators.txt', 'w') as f:\n",
    "    f.write('\\n'.join(row[0] for row in cursor.execute(query)))"
   ]
  },
  {
   "cell_type": "code",
   "execution_count": null,
   "metadata": {},
   "outputs": [],
   "source": [
    "query = \"\"\"\\\n",
    "SELECT TOP 100 author\n",
    "FROM Comments (NOLOCK)\n",
    "WHERE depth = 1 AND\n",
    "      created BETWEEN GETUTCDATE() - 90 AND GETUTCDATE() AND\n",
    "      ((CONTAINS (body, 'nice') AND body LIKE 'nice') OR\n",
    "       (CONTAINS (body, 'beautiful') AND body LIKE 'beautiful') OR\n",
    "       (CONTAINS (body, 'upvoted') AND body LIKE 'upvoted'))\n",
    "GROUP BY author\n",
    "ORDER BY COUNT(*) DESC\"\"\"\n",
    "\n",
    "with open('comment_spammers.txt', 'w') as f:\n",
    "    f.write('\\n'.join(row[0] for row in cursor.execute(query)))"
   ]
  },
  {
   "cell_type": "code",
   "execution_count": null,
   "metadata": {},
   "outputs": [],
   "source": [
    "d = defaultdict(dict)\n",
    "\n",
    "for name in ['jacekw', 'fervi', 'gtg', 'noisy', 'tipu', 'gizem', 'moyse']:\n",
    "    account = Account(name)\n",
    "    foll = account.get_follow_count()\n",
    "    d[name]['followers'] = foll['follower_count']\n",
    "    d[name]['followings'] = foll['following_count']\n",
    "    d[name]['follow ratio'] = foll['following_count'] / foll['follower_count']\n",
    "    d[name]['muters'] = len(account.get_muters())\n",
    "    d[name]['reputation'] = account.get_reputation()\n",
    "    d[name]['effective sp'] = account.get_steem_power()\n",
    "    d[name]['own sp'] = account.get_steem_power(onlyOwnSP=True)\n",
    "    d[name]['sp ratio'] = account.get_steem_power() / account.get_steem_power(onlyOwnSP=True)"
   ]
  },
  {
   "cell_type": "code",
   "execution_count": null,
   "metadata": {},
   "outputs": [],
   "source": [
    "query = \"\"\"\\\n",
    "SELECT\n",
    "  name,\n",
    "  curation_rewards,\n",
    "  posting_rewards,\n",
    "  witnesses_voted_for\n",
    "FROM Accounts (NOLOCK) a\n",
    "WHERE name in ('jacekw', 'fervi', 'gtg', 'noisy', 'tipu', 'gizem', 'moyse')\"\"\"\n",
    "\n",
    "for row in cursor.execute(query):\n",
    "    name = row[0]\n",
    "    curation_rewards = row[1] / 1000.0\n",
    "    posting_rewards = row[2] / 1000.0\n",
    "    witnesses_voted_for = row[3]   \n",
    "    d[name]['curation_rewards'] = curation_rewards\n",
    "    d[name]['posting_rewards'] = posting_rewards\n",
    "    d[name]['witnesses_voted_for'] = witnesses_voted_for"
   ]
  },
  {
   "cell_type": "code",
   "execution_count": null,
   "metadata": {},
   "outputs": [],
   "source": [
    "for k, v in d.items():\n",
    "    print(k)\n",
    "    for k2, v2 in v.items():\n",
    "        print('\\t', k2, ':', v2)"
   ]
  },
  {
   "cell_type": "code",
   "execution_count": null,
   "metadata": {},
   "outputs": [],
   "source": [
    "query = \"\"\"\\\n",
    "SELECT\n",
    "  author,\n",
    "  COUNT(*),\n",
    "  AVG(LEN(body))\n",
    "FROM Comments (NOLOCK) a\n",
    "WHERE depth = 0 AND\n",
    "      created BETWEEN GETUTCDATE() - 90 AND GETUTCDATE()\n",
    "      AND author in ('jacekw', 'fervi', 'gtg', 'noisy', 'tipu', 'gizem', 'moyse')\n",
    "GROUP BY author\"\"\""
   ]
  },
  {
   "cell_type": "code",
   "execution_count": null,
   "metadata": {},
   "outputs": [],
   "source": [
    "for row in cursor.execute(query):\n",
    "    name = row[0]\n",
    "    posts = row[1]\n",
    "    average_post_len = row[2]\n",
    "    d[name]['posts'] = posts\n",
    "    d[name]['average_post_len'] = average_post_len"
   ]
  },
  {
   "cell_type": "code",
   "execution_count": null,
   "metadata": {},
   "outputs": [],
   "source": []
  }
 ],
 "metadata": {
  "kernelspec": {
   "display_name": "Python 3",
   "language": "python",
   "name": "python3"
  },
  "language_info": {
   "codemirror_mode": {
    "name": "ipython",
    "version": 3
   },
   "file_extension": ".py",
   "mimetype": "text/x-python",
   "name": "python",
   "nbconvert_exporter": "python",
   "pygments_lexer": "ipython3",
   "version": "3.6.5"
  }
 },
 "nbformat": 4,
 "nbformat_minor": 2
}
