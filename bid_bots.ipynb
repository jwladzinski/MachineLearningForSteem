{
 "cells": [
  {
   "cell_type": "code",
   "execution_count": 1,
   "metadata": {},
   "outputs": [
    {
     "name": "stderr",
     "output_type": "stream",
     "text": [
      "D:\\Anaconda3\\envs\\jenv\\lib\\site-packages\\h5py\\__init__.py:36: FutureWarning: Conversion of the second argument of issubdtype from `float` to `np.floating` is deprecated. In future, it will be treated as `np.float64 == np.dtype(float).type`.\n",
      "  from ._conv import register_converters as _register_converters\n",
      "Using TensorFlow backend.\n"
     ]
    }
   ],
   "source": [
    "import numpy as np\n",
    "import pandas as pd\n",
    "import matplotlib.pyplot as plt\n",
    "import seaborn as sns\n",
    "from keras.models import Sequential\n",
    "from keras.layers import Dense\n",
    "from sklearn.model_selection import train_test_split\n",
    "from sklearn.metrics import confusion_matrix, precision_score, recall_score, f1_score\n",
    "from sklearn.preprocessing import StandardScaler, QuantileTransformer\n",
    "import warnings\n",
    "with warnings.catch_warnings():\n",
    "    warnings.filterwarnings(\"ignore\",category=FutureWarning)\n",
    "    \n",
    "%matplotlib inline\n",
    "\n",
    "plt.rcParams[\"axes.grid\"] = True"
   ]
  },
  {
   "cell_type": "code",
   "execution_count": 2,
   "metadata": {},
   "outputs": [],
   "source": [
    "df = pd.read_csv('data.csv', index_col=None, sep=\",\")"
   ]
  },
  {
   "cell_type": "code",
   "execution_count": 3,
   "metadata": {},
   "outputs": [
    {
     "name": "stdout",
     "output_type": "stream",
     "text": [
      "                 name  followers  followings  foll. ratio  muters        rep  \\\n",
      "0             beggars       1144          66     0.057692       4  58.485711   \n",
      "1     anthonyadavisii       3477        2295     0.660052      19  59.185663   \n",
      "2           amvanaken       3026         175     0.057832      10  60.324424   \n",
      "3       shaikhraz1986        229          11     0.048035       3  46.766451   \n",
      "4            harpagon        306          39     0.127451       0  55.577631   \n",
      "5               famil        661         274     0.414523       3  58.858699   \n",
      "6           swapsteem        197          31     0.157360       0  39.812361   \n",
      "7            kr-nahid        773         366     0.473480       6  58.179101   \n",
      "8        thefairypark        153           1     0.006536       0  32.825241   \n",
      "9             eosbake        115           0     0.000000       0  25.000000   \n",
      "10      official-hord        619         139     0.224556       0  59.131711   \n",
      "11           kretorkk        517         543     1.050290      15  50.294688   \n",
      "12         upyourpost         59           0     0.000000       0  41.325609   \n",
      "13           juanunix        283         124     0.438163       0  34.732809   \n",
      "14           smhp2016        250          61     0.244000       2  40.146092   \n",
      "15      hypcomtiveart        188           9     0.047872       0  31.552173   \n",
      "16         sabbir1213        460         332     0.721739       7  53.468127   \n",
      "17        mayowadavid        778         201     0.258355       0  59.487183   \n",
      "18        reazuliqbal        415          81     0.195181       3  59.870402   \n",
      "19             tensor        786         114     0.145038       0  66.128713   \n",
      "20           cave-man        431         255     0.591647       1  49.600199   \n",
      "21           superoo7        832         264     0.317308       1  63.408665   \n",
      "22            lapulga        545          80     0.146789       4  55.032231   \n",
      "23           jingis07        274          76     0.277372       0  55.240466   \n",
      "24           acrywhif        351          28     0.079772       0  56.929754   \n",
      "25          abitrolly        136           5     0.036765       0  45.361135   \n",
      "26          soofluffy        184           8     0.043478       0  55.411175   \n",
      "27            enyason        216          50     0.231481       0  40.628700   \n",
      "28         devdungeon        178           2     0.011236       0  43.171284   \n",
      "29            alfanso        325           1     0.003077       0  42.117333   \n",
      "..                ...        ...         ...          ...     ...        ...   \n",
      "407         fireruner        143           2     0.013986       0  51.722498   \n",
      "408      manueljcb-85        267         100     0.374532       0  44.407881   \n",
      "409         masudrana       1838         136     0.073993       7  60.418132   \n",
      "410        phillips93       1131         280     0.247569       6  45.052678   \n",
      "411      riazuddin101        231         584     2.528139       2  42.353124   \n",
      "412          clayjohn        221          19     0.085973       0  57.365999   \n",
      "413         peace-bot        187           0     0.000000       0  39.218000   \n",
      "414     baranpirincal        503          44     0.087475       1  63.754549   \n",
      "415         cryptouru        288         133     0.461806       0  56.621203   \n",
      "416        automation        383           6     0.015666       0  42.418938   \n",
      "417      sadiajahan22        288        2243     7.788194       0  41.013472   \n",
      "418          redwhale        425        1230     2.894118       2  42.088190   \n",
      "419   miniature-tiger       2415         856     0.354451       5  65.304124   \n",
      "420       lovebooster        202          58     0.287129       0  51.190798   \n",
      "421    happyberrysboy       1028         261     0.253891       4  61.376155   \n",
      "422          tompeter        262         249     0.950382       1  37.737648   \n",
      "423            thebot        768           4     0.005208       8  53.337931   \n",
      "424        steempayco        145           0     0.000000       0  46.511527   \n",
      "425            proba1       1670          39     0.023353       4  54.410686   \n",
      "426             degon        166          41     0.246988       0  29.174911   \n",
      "427         adam.tran        864         279     0.322917       1  52.910125   \n",
      "428      camiloferrua        394         123     0.312183       1  58.710165   \n",
      "429        lost-ninja        361           0     0.000000       4  43.764663   \n",
      "430           nkenyor        189          17     0.089947       0  34.163274   \n",
      "431          anonymee        476          65     0.136555       0  49.479937   \n",
      "432           siersod        831         107     0.128761       4  60.021864   \n",
      "433               t50        442         433     0.979638       5  43.598832   \n",
      "434        almamun298        612        1752     2.862745       3  45.485953   \n",
      "435  steempytutorials       2100           0     0.000000      11  60.069044   \n",
      "436          noicebot        251          36     0.143426       0  44.633471   \n",
      "\n",
      "          eff. sp        own sp     sp ratio  bid-bot?  \n",
      "0      457.254297    457.254297     1.000000         0  \n",
      "1      575.470517   1210.696343     0.475322         0  \n",
      "2      491.175030    716.217811     0.685790         0  \n",
      "3       15.051121     12.462512     1.207712         0  \n",
      "4      389.858866    389.858866     1.000000         0  \n",
      "5        7.859833    207.836914     0.037817         0  \n",
      "6       15.441267      0.907584    17.013591         0  \n",
      "7      130.890891    130.890891     1.000000         0  \n",
      "8       15.000498      0.559973    26.787898         0  \n",
      "9        3.002430      3.002430     1.000000         0  \n",
      "10      65.469489     65.469489     1.000000         0  \n",
      "11      28.683815     28.683815     1.000000         0  \n",
      "12    6364.556445     35.291504   180.342452         1  \n",
      "13      15.067013      0.605682    24.876111         0  \n",
      "14      15.001438      1.949487     7.695069         0  \n",
      "15      15.037288      0.113174   132.868666         0  \n",
      "16      52.156607     52.156607     1.000000         0  \n",
      "17     258.114152    318.472146     0.810476         0  \n",
      "18     792.802791    792.802791     1.000000         0  \n",
      "19     843.597176   1444.926142     0.583834         0  \n",
      "20      38.248893     38.248893     1.000000         0  \n",
      "21    1248.590358   2007.581677     0.621938         0  \n",
      "22      39.110186     39.110186     1.000000         0  \n",
      "23      65.300763     65.300763     1.000000         0  \n",
      "24     123.636128    123.636128     1.000000         0  \n",
      "25      15.008240      9.215839     1.628527         0  \n",
      "26      58.983404     58.983404     1.000000         0  \n",
      "27      15.051416      2.705390     5.563491         0  \n",
      "28      15.055673      3.421125     4.400796         0  \n",
      "29   70655.466727    497.689664   141.966916         1  \n",
      "..            ...           ...          ...       ...  \n",
      "407     47.586277     33.073988     1.438783         0  \n",
      "408     15.094809      5.495939     2.746539         0  \n",
      "409    503.151597    365.239566     1.377593         0  \n",
      "410     11.863126     11.863126     1.000000         0  \n",
      "411     15.010801      3.800503     3.949688         0  \n",
      "412    359.613960    326.434854     1.101641         0  \n",
      "413   1809.064023     29.146250    62.068499         1  \n",
      "414    717.190188    717.190188     1.000000         0  \n",
      "415    487.333135   1314.870764     0.370632         0  \n",
      "416    881.148928     17.546513    50.217893         1  \n",
      "417     15.045440      2.556513     5.885141         0  \n",
      "418    504.117761     30.601702    16.473520         1  \n",
      "419   2501.296571   2501.296571     1.000000         0  \n",
      "420     32.992589     32.992589     1.000000         0  \n",
      "421   9480.008789  21951.303488     0.431865         0  \n",
      "422     15.020094      2.050743     7.324221         0  \n",
      "423  54153.074351    317.631211   170.490407         1  \n",
      "424  60413.279270     16.033405  3767.963132         0  \n",
      "425     66.835639     66.835639     1.000000         0  \n",
      "426     15.071103      0.522591    28.839194         0  \n",
      "427     89.884069     89.863155     1.000233         0  \n",
      "428     92.194765    193.428142     0.476636         0  \n",
      "429   9988.664329   2693.343514     3.708648         1  \n",
      "430     15.699770      1.050720    14.941915         0  \n",
      "431     19.232443     19.232443     1.000000         0  \n",
      "432      8.377833      8.377833     1.000000         0  \n",
      "433   5738.880650     59.788742    95.985973         1  \n",
      "434     15.050052      8.101502     1.857687         0  \n",
      "435    210.527110    210.527110     1.000000         0  \n",
      "436    588.156920     29.752085    19.768595         1  \n",
      "\n",
      "[437 rows x 10 columns]\n"
     ]
    }
   ],
   "source": [
    "print(df)"
   ]
  },
  {
   "cell_type": "code",
   "execution_count": 4,
   "metadata": {},
   "outputs": [
    {
     "name": "stdout",
     "output_type": "stream",
     "text": [
      "Attribute|User avg|Bid-bot avg\n",
      "-|-|-\n",
      "followers|1078.974|1926.841\n",
      "followings|382.238|204.068\n",
      "foll. ratio|0.389|0.170\n",
      "muters|3.524|12.330\n",
      "rep|55.065|45.564\n",
      "eff. sp|5494.488|224684.003\n",
      "own sp|2110.639|13383.966\n",
      "sp ratio|18.165|126.915\n"
     ]
    }
   ],
   "source": [
    "print('Attribute|User avg|Bid-bot avg')\n",
    "print('-|-|-')\n",
    "for column in ['followers', 'followings', 'foll. ratio', 'muters', 'rep', 'eff. sp', 'own sp', 'sp ratio']:\n",
    "    print('%s|%.3f|%.3f' % (column, df[df['bid-bot?'] == 0][column].mean(), df[df['bid-bot?'] == 1][column].mean()))"
   ]
  },
  {
   "cell_type": "code",
   "execution_count": 5,
   "metadata": {},
   "outputs": [],
   "source": [
    "df1 = df[df['followings'] < 10000]\n",
    "df1 = df1[df1['followers'] < 10000]\n",
    "df1 = df1[df1['sp ratio'] < 500]\n",
    "df1 = df1[df1['foll. ratio'] < 5]"
   ]
  },
  {
   "cell_type": "code",
   "execution_count": 6,
   "metadata": {
    "scrolled": false
   },
   "outputs": [
    {
     "data": {
      "text/plain": [
       "<matplotlib.legend.Legend at 0x20ccbfacd30>"
      ]
     },
     "execution_count": 6,
     "metadata": {},
     "output_type": "execute_result"
    },
    {
     "data": {
      "image/png": "[encoded data removed]",
      "text/plain": [
       "<Figure size 504x504 with 1 Axes>"
      ]
     },
     "metadata": {},
     "output_type": "display_data"
    }
   ],
   "source": [
    "sns.FacetGrid(df1, hue=\"bid-bot?\", size=7).map(plt.scatter, \"followers\", \"followings\")\n",
    "plt.legend(['user', 'bid-bot'])"
   ]
  },
  {
   "cell_type": "code",
   "execution_count": 7,
   "metadata": {},
   "outputs": [
    {
     "data": {
      "text/plain": [
       "<matplotlib.legend.Legend at 0x20ccbf05cf8>"
      ]
     },
     "execution_count": 7,
     "metadata": {},
     "output_type": "execute_result"
    },
    {
     "data": {
      "image/png": "[encoded data removed]",
      "text/plain": [
       "<Figure size 504x504 with 1 Axes>"
      ]
     },
     "metadata": {},
     "output_type": "display_data"
    }
   ],
   "source": [
    "sns.FacetGrid(df1, hue=\"bid-bot?\", size=7).map(plt.scatter, \"muters\", \"rep\")\n",
    "plt.legend(['user', 'bid-bot'])"
   ]
  },
  {
   "cell_type": "code",
   "execution_count": 8,
   "metadata": {},
   "outputs": [
    {
     "data": {
      "text/plain": [
       "<matplotlib.legend.Legend at 0x20ccc097908>"
      ]
     },
     "execution_count": 8,
     "metadata": {},
     "output_type": "execute_result"
    },
    {
     "data": {
      "image/png": "[encoded data removed]",
      "text/plain": [
       "<Figure size 504x504 with 1 Axes>"
      ]
     },
     "metadata": {},
     "output_type": "display_data"
    }
   ],
   "source": [
    "sns.FacetGrid(df1, hue=\"bid-bot?\", size=7).map(plt.scatter, \"foll. ratio\", \"sp ratio\")\n",
    "plt.legend(['user', 'bid-bot'])"
   ]
  },
  {
   "cell_type": "code",
   "execution_count": 9,
   "metadata": {},
   "outputs": [],
   "source": [
    "X_cols = ['followers', 'followings', 'foll. ratio', 'muters', 'rep', 'eff. sp', 'own sp', 'sp ratio']\n",
    "y_cols = ['bid-bot?']\n",
    "X = df[X_cols].apply(pd.to_numeric)\n",
    "y = df[y_cols].apply(pd.to_numeric)\n",
    "X_train, X_test, y_train, y_test = train_test_split(X, y, test_size=0.3, random_state=0)"
   ]
  },
  {
   "cell_type": "code",
   "execution_count": 10,
   "metadata": {},
   "outputs": [
    {
     "name": "stdout",
     "output_type": "stream",
     "text": [
      "_________________________________________________________________\n",
      "Layer (type)                 Output Shape              Param #   \n",
      "=================================================================\n",
      "dense_1 (Dense)              (None, 24)                216       \n",
      "_________________________________________________________________\n",
      "dense_2 (Dense)              (None, 12)                300       \n",
      "_________________________________________________________________\n",
      "dense_3 (Dense)              (None, 1)                 13        \n",
      "=================================================================\n",
      "Total params: 529\n",
      "Trainable params: 529\n",
      "Non-trainable params: 0\n",
      "_________________________________________________________________\n",
      "Epoch 1/50\n",
      "305/305 [==============================] - 0s 1ms/step - loss: 3.0651 - acc: 0.8098\n",
      "Epoch 2/50\n",
      "305/305 [==============================] - 0s 1ms/step - loss: 3.0651 - acc: 0.8098\n",
      "Epoch 3/50\n",
      "305/305 [==============================] - 0s 1ms/step - loss: 3.0651 - acc: 0.8098\n",
      "Epoch 4/50\n",
      "305/305 [==============================] - 0s 1ms/step - loss: 3.0651 - acc: 0.8098\n",
      "Epoch 5/50\n",
      "305/305 [==============================] - 0s 1ms/step - loss: 3.0651 - acc: 0.8098\n",
      "Epoch 6/50\n",
      "305/305 [==============================] - 0s 1ms/step - loss: 3.0651 - acc: 0.8098\n",
      "Epoch 7/50\n",
      "305/305 [==============================] - 0s 1ms/step - loss: 3.0651 - acc: 0.8098\n",
      "Epoch 8/50\n",
      "305/305 [==============================] - 0s 1ms/step - loss: 3.0651 - acc: 0.8098\n",
      "Epoch 9/50\n",
      "305/305 [==============================] - 0s 1ms/step - loss: 3.0651 - acc: 0.8098\n",
      "Epoch 10/50\n",
      "305/305 [==============================] - 0s 1ms/step - loss: 3.0651 - acc: 0.8098\n",
      "Epoch 11/50\n",
      "305/305 [==============================] - 0s 1ms/step - loss: 3.0651 - acc: 0.8098\n",
      "Epoch 12/50\n",
      "305/305 [==============================] - 0s 1ms/step - loss: 3.0651 - acc: 0.8098\n",
      "Epoch 13/50\n",
      "305/305 [==============================] - 0s 1ms/step - loss: 3.0651 - acc: 0.8098\n",
      "Epoch 14/50\n",
      "305/305 [==============================] - 0s 1ms/step - loss: 3.0651 - acc: 0.8098\n",
      "Epoch 15/50\n",
      "305/305 [==============================] - 0s 1ms/step - loss: 3.0651 - acc: 0.8098\n",
      "Epoch 16/50\n",
      "305/305 [==============================] - 0s 1ms/step - loss: 3.0651 - acc: 0.8098\n",
      "Epoch 17/50\n",
      "305/305 [==============================] - 0s 1ms/step - loss: 3.0651 - acc: 0.8098\n",
      "Epoch 18/50\n",
      "305/305 [==============================] - 0s 1ms/step - loss: 3.0651 - acc: 0.8098\n",
      "Epoch 19/50\n",
      "305/305 [==============================] - 0s 1ms/step - loss: 3.0651 - acc: 0.8098\n",
      "Epoch 20/50\n",
      "305/305 [==============================] - 0s 1ms/step - loss: 3.0651 - acc: 0.8098\n",
      "Epoch 21/50\n",
      "305/305 [==============================] - 0s 1ms/step - loss: 3.0651 - acc: 0.8098\n",
      "Epoch 22/50\n",
      "305/305 [==============================] - 0s 1ms/step - loss: 3.0651 - acc: 0.8098\n",
      "Epoch 23/50\n",
      "305/305 [==============================] - 0s 1ms/step - loss: 3.0651 - acc: 0.8098\n",
      "Epoch 24/50\n",
      "305/305 [==============================] - 0s 1ms/step - loss: 3.0651 - acc: 0.8098\n",
      "Epoch 25/50\n",
      "305/305 [==============================] - 0s 1ms/step - loss: 3.0651 - acc: 0.8098\n",
      "Epoch 26/50\n",
      "305/305 [==============================] - 0s 1ms/step - loss: 3.0651 - acc: 0.8098\n",
      "Epoch 27/50\n",
      "305/305 [==============================] - 0s 1ms/step - loss: 3.0651 - acc: 0.8098\n",
      "Epoch 28/50\n",
      "305/305 [==============================] - 0s 1ms/step - loss: 3.0651 - acc: 0.8098\n",
      "Epoch 29/50\n",
      "305/305 [==============================] - 1s 2ms/step - loss: 3.0651 - acc: 0.8098\n",
      "Epoch 30/50\n",
      "305/305 [==============================] - 0s 1ms/step - loss: 3.0651 - acc: 0.8098\n",
      "Epoch 31/50\n",
      "305/305 [==============================] - 0s 1ms/step - loss: 3.0651 - acc: 0.8098\n",
      "Epoch 32/50\n",
      "305/305 [==============================] - 0s 1ms/step - loss: 3.0651 - acc: 0.8098\n",
      "Epoch 33/50\n",
      "305/305 [==============================] - 0s 1ms/step - loss: 3.0651 - acc: 0.8098\n",
      "Epoch 34/50\n",
      "305/305 [==============================] - 0s 1ms/step - loss: 3.0651 - acc: 0.8098\n",
      "Epoch 35/50\n",
      "305/305 [==============================] - 0s 1ms/step - loss: 3.0651 - acc: 0.8098\n",
      "Epoch 36/50\n",
      "305/305 [==============================] - 0s 1ms/step - loss: 3.0651 - acc: 0.8098\n",
      "Epoch 37/50\n",
      "305/305 [==============================] - 0s 1ms/step - loss: 3.0651 - acc: 0.8098\n",
      "Epoch 38/50\n",
      "305/305 [==============================] - 0s 1ms/step - loss: 3.0651 - acc: 0.8098\n",
      "Epoch 39/50\n",
      "305/305 [==============================] - 0s 1ms/step - loss: 3.0651 - acc: 0.8098\n",
      "Epoch 40/50\n",
      "305/305 [==============================] - 0s 1ms/step - loss: 3.0651 - acc: 0.8098\n",
      "Epoch 41/50\n",
      "305/305 [==============================] - 0s 1ms/step - loss: 3.0651 - acc: 0.8098\n",
      "Epoch 42/50\n",
      "305/305 [==============================] - 0s 1ms/step - loss: 3.0651 - acc: 0.8098\n",
      "Epoch 43/50\n",
      "305/305 [==============================] - 0s 1ms/step - loss: 3.0651 - acc: 0.8098\n",
      "Epoch 44/50\n",
      "305/305 [==============================] - 0s 1ms/step - loss: 3.0651 - acc: 0.8098\n",
      "Epoch 45/50\n",
      "305/305 [==============================] - 0s 1ms/step - loss: 3.0651 - acc: 0.8098\n",
      "Epoch 46/50\n",
      "305/305 [==============================] - 0s 1ms/step - loss: 3.0651 - acc: 0.8098\n",
      "Epoch 47/50\n",
      "305/305 [==============================] - 0s 1ms/step - loss: 3.0651 - acc: 0.8098- ETA: 0s - loss: 3.9438 - acc: 0\n",
      "Epoch 48/50\n",
      "305/305 [==============================] - 0s 1ms/step - loss: 3.0651 - acc: 0.8098\n",
      "Epoch 49/50\n",
      "305/305 [==============================] - 0s 1ms/step - loss: 3.0651 - acc: 0.8098\n",
      "Epoch 50/50\n",
      "305/305 [==============================] - 0s 1ms/step - loss: 3.0651 - acc: 0.8098\n",
      "132/132 [==============================] - 0s 144us/step\n",
      "[3.6632034995339136, 0.7727272727272727]\n",
      "[[102   0]\n",
      " [ 30   0]]\n"
     ]
    }
   ],
   "source": [
    "model = Sequential()\n",
    "model.add(Dense(24, activation='relu', input_dim=8))\n",
    "model.add(Dense(12, activation='relu'))\n",
    "model.add(Dense(1, activation='sigmoid'))\n",
    "\n",
    "model.compile(loss='binary_crossentropy',\n",
    "              optimizer='adam',\n",
    "              metrics=['accuracy'])\n",
    "\n",
    "model.summary()\n",
    "                   \n",
    "model.fit(X_train, y_train,epochs=50, batch_size=1, verbose=1)\n",
    "score = model.evaluate(X_test, y_test,verbose=1)\n",
    "print(score)\n",
    "y_pred = model.predict_classes(X_test)\n",
    "cm = confusion_matrix(y_test, y_pred)\n",
    "print(cm)"
   ]
  },
  {
   "cell_type": "code",
   "execution_count": 11,
   "metadata": {},
   "outputs": [
    {
     "data": {
      "text/plain": [
       "<matplotlib.axes._subplots.AxesSubplot at 0x20ccc1531d0>"
      ]
     },
     "execution_count": 11,
     "metadata": {},
     "output_type": "execute_result"
    },
    {
     "data": {
      "image/png": "[encoded data removed]",
      "text/plain": [
       "<Figure size 288x288 with 2 Axes>"
      ]
     },
     "metadata": {},
     "output_type": "display_data"
    }
   ],
   "source": [
    "plt.figure(figsize = (4, 4))\n",
    "sns.heatmap(cm, annot=True, cmap=\"Greens\")"
   ]
  },
  {
   "cell_type": "code",
   "execution_count": 12,
   "metadata": {},
   "outputs": [
    {
     "name": "stdout",
     "output_type": "stream",
     "text": [
      "precision: 0.0 \n",
      "recall: 0.0 \n",
      "f1: 0.0\n"
     ]
    },
    {
     "name": "stderr",
     "output_type": "stream",
     "text": [
      "D:\\Anaconda3\\envs\\jenv\\lib\\site-packages\\sklearn\\metrics\\classification.py:1135: UndefinedMetricWarning: Precision is ill-defined and being set to 0.0 due to no predicted samples.\n",
      "  'precision', 'predicted', average, warn_for)\n",
      "D:\\Anaconda3\\envs\\jenv\\lib\\site-packages\\sklearn\\metrics\\classification.py:1135: UndefinedMetricWarning: F-score is ill-defined and being set to 0.0 due to no predicted samples.\n",
      "  'precision', 'predicted', average, warn_for)\n"
     ]
    }
   ],
   "source": [
    "print('precision:', precision_score(y_test, y_pred),\n",
    "      '\\nrecall:', recall_score(y_test, y_pred),\n",
    "      '\\nf1:', f1_score(y_test, y_pred))"
   ]
  },
  {
   "cell_type": "code",
   "execution_count": 13,
   "metadata": {},
   "outputs": [
    {
     "name": "stdout",
     "output_type": "stream",
     "text": [
      "Epoch 1/50\n",
      "305/305 [==============================] - 0s 1ms/step - loss: 0.3813 - acc: 0.8262\n",
      "Epoch 2/50\n",
      "305/305 [==============================] - 0s 1ms/step - loss: 0.3113 - acc: 0.8689\n",
      "Epoch 3/50\n",
      "305/305 [==============================] - 0s 1ms/step - loss: 0.2827 - acc: 0.8820\n",
      "Epoch 4/50\n",
      "305/305 [==============================] - 0s 1ms/step - loss: 0.2657 - acc: 0.8820\n",
      "Epoch 5/50\n",
      "305/305 [==============================] - 0s 2ms/step - loss: 0.2463 - acc: 0.9049\n",
      "Epoch 6/50\n",
      "305/305 [==============================] - 0s 2ms/step - loss: 0.2395 - acc: 0.9049\n",
      "Epoch 7/50\n",
      "305/305 [==============================] - 0s 2ms/step - loss: 0.2334 - acc: 0.9016\n",
      "Epoch 8/50\n",
      "305/305 [==============================] - 0s 1ms/step - loss: 0.2241 - acc: 0.8984A: 0s - loss: 0.2202 - acc: 0.902\n",
      "Epoch 9/50\n",
      "305/305 [==============================] - 0s 2ms/step - loss: 0.2234 - acc: 0.8984\n",
      "Epoch 10/50\n",
      "305/305 [==============================] - 0s 2ms/step - loss: 0.2133 - acc: 0.9115\n",
      "Epoch 11/50\n",
      "305/305 [==============================] - 0s 1ms/step - loss: 0.2108 - acc: 0.8951\n",
      "Epoch 12/50\n",
      "305/305 [==============================] - 1s 2ms/step - loss: 0.2049 - acc: 0.9082\n",
      "Epoch 13/50\n",
      "305/305 [==============================] - 0s 2ms/step - loss: 0.2070 - acc: 0.9115\n",
      "Epoch 14/50\n",
      "305/305 [==============================] - 0s 1ms/step - loss: 0.1973 - acc: 0.9082\n",
      "Epoch 15/50\n",
      "305/305 [==============================] - 0s 1ms/step - loss: 0.2008 - acc: 0.9115\n",
      "Epoch 16/50\n",
      "305/305 [==============================] - 0s 1ms/step - loss: 0.1926 - acc: 0.9180\n",
      "Epoch 17/50\n",
      "305/305 [==============================] - 1s 2ms/step - loss: 0.1887 - acc: 0.9180\n",
      "Epoch 18/50\n",
      "305/305 [==============================] - 0s 2ms/step - loss: 0.1914 - acc: 0.9246\n",
      "Epoch 19/50\n",
      "305/305 [==============================] - 1s 2ms/step - loss: 0.1863 - acc: 0.9213\n",
      "Epoch 20/50\n",
      "305/305 [==============================] - 0s 2ms/step - loss: 0.1865 - acc: 0.9180\n",
      "Epoch 21/50\n",
      "305/305 [==============================] - 0s 1ms/step - loss: 0.1865 - acc: 0.9180\n",
      "Epoch 22/50\n",
      "305/305 [==============================] - 0s 2ms/step - loss: 0.1781 - acc: 0.9279\n",
      "Epoch 23/50\n",
      "305/305 [==============================] - 1s 2ms/step - loss: 0.1783 - acc: 0.9148\n",
      "Epoch 24/50\n",
      "305/305 [==============================] - 0s 2ms/step - loss: 0.1768 - acc: 0.9213\n",
      "Epoch 25/50\n",
      "305/305 [==============================] - 0s 1ms/step - loss: 0.1746 - acc: 0.9246\n",
      "Epoch 26/50\n",
      "305/305 [==============================] - 0s 1ms/step - loss: 0.1748 - acc: 0.9246\n",
      "Epoch 27/50\n",
      "305/305 [==============================] - 0s 1ms/step - loss: 0.1696 - acc: 0.9246\n",
      "Epoch 28/50\n",
      "305/305 [==============================] - 0s 1ms/step - loss: 0.1637 - acc: 0.9311\n",
      "Epoch 29/50\n",
      "305/305 [==============================] - 0s 1ms/step - loss: 0.1702 - acc: 0.9246\n",
      "Epoch 30/50\n",
      "305/305 [==============================] - 0s 1ms/step - loss: 0.1661 - acc: 0.9246\n",
      "Epoch 31/50\n",
      "305/305 [==============================] - 0s 1ms/step - loss: 0.1660 - acc: 0.9180\n",
      "Epoch 32/50\n",
      "305/305 [==============================] - 0s 1ms/step - loss: 0.1639 - acc: 0.9311\n",
      "Epoch 33/50\n",
      "305/305 [==============================] - 0s 1ms/step - loss: 0.1609 - acc: 0.9246\n",
      "Epoch 34/50\n",
      "305/305 [==============================] - 0s 986us/step - loss: 0.1651 - acc: 0.9246\n",
      "Epoch 35/50\n",
      "305/305 [==============================] - 0s 1ms/step - loss: 0.1590 - acc: 0.9246\n",
      "Epoch 36/50\n",
      "305/305 [==============================] - 0s 1ms/step - loss: 0.1587 - acc: 0.9311\n",
      "Epoch 37/50\n",
      "305/305 [==============================] - 0s 1ms/step - loss: 0.1558 - acc: 0.9311\n",
      "Epoch 38/50\n",
      "305/305 [==============================] - 0s 2ms/step - loss: 0.1570 - acc: 0.9311\n",
      "Epoch 39/50\n",
      "305/305 [==============================] - 0s 1ms/step - loss: 0.1517 - acc: 0.9344\n",
      "Epoch 40/50\n",
      "305/305 [==============================] - 0s 1ms/step - loss: 0.1516 - acc: 0.9377\n",
      "Epoch 41/50\n",
      "305/305 [==============================] - 0s 1ms/step - loss: 0.1520 - acc: 0.9377\n",
      "Epoch 42/50\n",
      "305/305 [==============================] - 0s 1ms/step - loss: 0.1440 - acc: 0.9311\n",
      "Epoch 43/50\n",
      "305/305 [==============================] - 0s 1ms/step - loss: 0.1486 - acc: 0.9344\n",
      "Epoch 44/50\n",
      "305/305 [==============================] - 1s 2ms/step - loss: 0.1390 - acc: 0.9377\n",
      "Epoch 45/50\n",
      "305/305 [==============================] - 0s 1ms/step - loss: 0.1442 - acc: 0.9410 ETA: 0s - loss: 0.2037 - acc: \n",
      "Epoch 46/50\n",
      "305/305 [==============================] - 0s 2ms/step - loss: 0.1419 - acc: 0.9377\n",
      "Epoch 47/50\n",
      "305/305 [==============================] - 0s 1ms/step - loss: 0.1331 - acc: 0.9377\n",
      "Epoch 48/50\n",
      "305/305 [==============================] - 1s 2ms/step - loss: 0.1368 - acc: 0.9377\n",
      "Epoch 49/50\n",
      "305/305 [==============================] - 0s 1ms/step - loss: 0.1385 - acc: 0.9311\n",
      "Epoch 50/50\n",
      "305/305 [==============================] - 0s 916us/step - loss: 0.1319 - acc: 0.9377\n",
      "precision: 0.7777777777777778 \n",
      "recall: 0.7 \n",
      "f1: 0.7368421052631577\n"
     ]
    },
    {
     "data": {
      "image/png": "[encoded data removed]",
      "text/plain": [
       "<Figure size 432x432 with 2 Axes>"
      ]
     },
     "metadata": {},
     "output_type": "display_data"
    }
   ],
   "source": [
    "X = df[X_cols]\n",
    "y = df[y_cols]\n",
    "X = pd.DataFrame(StandardScaler().fit_transform(X))\n",
    "X_train, X_test, y_train, y_test = train_test_split(X, y, test_size=0.3, random_state=0)\n",
    "model.fit(X_train, y_train,epochs=50, batch_size=1, verbose=1)\n",
    "y_pred = model.predict_classes(X_test)\n",
    "cm = confusion_matrix(y_test, y_pred)\n",
    "plt.figure(figsize = (6, 6))\n",
    "sns.heatmap(cm, annot=True, cmap=\"Greens\")\n",
    "print('precision:', precision_score(y_test, y_pred),\n",
    "      '\\nrecall:', recall_score(y_test, y_pred),\n",
    "      '\\nf1:', f1_score(y_test, y_pred))"
   ]
  },
  {
   "cell_type": "code",
   "execution_count": 14,
   "metadata": {},
   "outputs": [
    {
     "name": "stdout",
     "output_type": "stream",
     "text": [
      "Epoch 1/50\n",
      "305/305 [==============================] - 0s 927us/step - loss: 0.3265 - acc: 0.9016\n",
      "Epoch 2/50\n",
      "305/305 [==============================] - 0s 903us/step - loss: 0.2292 - acc: 0.9344\n",
      "Epoch 3/50\n",
      "305/305 [==============================] - 0s 1ms/step - loss: 0.1851 - acc: 0.9443 ETA: 0s - loss: 0.1892 - acc: 0.\n",
      "Epoch 4/50\n",
      "305/305 [==============================] - 0s 1ms/step - loss: 0.1580 - acc: 0.9508\n",
      "Epoch 5/50\n",
      "305/305 [==============================] - 0s 877us/step - loss: 0.1348 - acc: 0.9607\n",
      "Epoch 6/50\n",
      "305/305 [==============================] - 0s 907us/step - loss: 0.1204 - acc: 0.9574\n",
      "Epoch 7/50\n",
      "305/305 [==============================] - 0s 963us/step - loss: 0.1074 - acc: 0.9705\n",
      "Epoch 8/50\n",
      "305/305 [==============================] - 0s 1ms/step - loss: 0.0935 - acc: 0.9705\n",
      "Epoch 9/50\n",
      "305/305 [==============================] - 0s 894us/step - loss: 0.0915 - acc: 0.9738\n",
      "Epoch 10/50\n",
      "305/305 [==============================] - 0s 836us/step - loss: 0.0834 - acc: 0.9639\n",
      "Epoch 11/50\n",
      "305/305 [==============================] - 0s 837us/step - loss: 0.0749 - acc: 0.9705\n",
      "Epoch 12/50\n",
      "305/305 [==============================] - 0s 794us/step - loss: 0.0767 - acc: 0.9705\n",
      "Epoch 13/50\n",
      "305/305 [==============================] - 0s 872us/step - loss: 0.0678 - acc: 0.9770\n",
      "Epoch 14/50\n",
      "305/305 [==============================] - 0s 1ms/step - loss: 0.0672 - acc: 0.9738\n",
      "Epoch 15/50\n",
      "305/305 [==============================] - ETA: 0s - loss: 0.0640 - acc: 0.975 - 0s 1ms/step - loss: 0.0627 - acc: 0.9738\n",
      "Epoch 16/50\n",
      "305/305 [==============================] - 0s 824us/step - loss: 0.0645 - acc: 0.9738\n",
      "Epoch 17/50\n",
      "305/305 [==============================] - 0s 1ms/step - loss: 0.0691 - acc: 0.9738\n",
      "Epoch 18/50\n",
      "305/305 [==============================] - 0s 1ms/step - loss: 0.0590 - acc: 0.9770\n",
      "Epoch 19/50\n",
      "305/305 [==============================] - 0s 1ms/step - loss: 0.0579 - acc: 0.9738\n",
      "Epoch 20/50\n",
      "305/305 [==============================] - 0s 1ms/step - loss: 0.0602 - acc: 0.9803\n",
      "Epoch 21/50\n",
      "305/305 [==============================] - 0s 1ms/step - loss: 0.0569 - acc: 0.9738\n",
      "Epoch 22/50\n",
      "305/305 [==============================] - 1s 2ms/step - loss: 0.0602 - acc: 0.9869\n",
      "Epoch 23/50\n",
      "305/305 [==============================] - 1s 2ms/step - loss: 0.0545 - acc: 0.9836\n",
      "Epoch 24/50\n",
      "305/305 [==============================] - 0s 1ms/step - loss: 0.0505 - acc: 0.9770\n",
      "Epoch 25/50\n",
      "305/305 [==============================] - 0s 1ms/step - loss: 0.0542 - acc: 0.9836\n",
      "Epoch 26/50\n",
      "305/305 [==============================] - 1s 2ms/step - loss: 0.0499 - acc: 0.9738\n",
      "Epoch 27/50\n",
      "305/305 [==============================] - 1s 2ms/step - loss: 0.0555 - acc: 0.9738\n",
      "Epoch 28/50\n",
      "305/305 [==============================] - 1s 3ms/step - loss: 0.0485 - acc: 0.9803A: 0s - loss: 0.0502 - acc: 0.97\n",
      "Epoch 29/50\n",
      "305/305 [==============================] - 1s 2ms/step - loss: 0.0463 - acc: 0.9803\n",
      "Epoch 30/50\n",
      "305/305 [==============================] - 1s 2ms/step - loss: 0.0481 - acc: 0.9770\n",
      "Epoch 31/50\n",
      "305/305 [==============================] - 1s 2ms/step - loss: 0.0549 - acc: 0.9770\n",
      "Epoch 32/50\n",
      "305/305 [==============================] - 0s 1ms/step - loss: 0.0442 - acc: 0.9738\n",
      "Epoch 33/50\n",
      "305/305 [==============================] - 1s 2ms/step - loss: 0.0476 - acc: 0.9738 ETA: 0s - loss: 0.0190 - acc\n",
      "Epoch 34/50\n",
      "305/305 [==============================] - 0s 1ms/step - loss: 0.0435 - acc: 0.9770\n",
      "Epoch 35/50\n",
      "305/305 [==============================] - 0s 1ms/step - loss: 0.0588 - acc: 0.9803\n",
      "Epoch 36/50\n",
      "305/305 [==============================] - 0s 1ms/step - loss: 0.0433 - acc: 0.9738\n",
      "Epoch 37/50\n",
      "305/305 [==============================] - 0s 887us/step - loss: 0.0566 - acc: 0.9803\n",
      "Epoch 38/50\n",
      "305/305 [==============================] - 0s 906us/step - loss: 0.0589 - acc: 0.9738\n",
      "Epoch 39/50\n",
      "305/305 [==============================] - 0s 851us/step - loss: 0.0555 - acc: 0.9770\n",
      "Epoch 40/50\n",
      "305/305 [==============================] - 0s 789us/step - loss: 0.0495 - acc: 0.9803\n",
      "Epoch 41/50\n",
      "305/305 [==============================] - 0s 1ms/step - loss: 0.0466 - acc: 0.9803\n",
      "Epoch 42/50\n",
      "305/305 [==============================] - 0s 1ms/step - loss: 0.0462 - acc: 0.9869\n",
      "Epoch 43/50\n",
      "305/305 [==============================] - 0s 1ms/step - loss: 0.0436 - acc: 0.9770\n",
      "Epoch 44/50\n",
      "305/305 [==============================] - 0s 1ms/step - loss: 0.0594 - acc: 0.9836\n",
      "Epoch 45/50\n",
      "305/305 [==============================] - 0s 1ms/step - loss: 0.0438 - acc: 0.9836\n",
      "Epoch 46/50\n",
      "305/305 [==============================] - 0s 1ms/step - loss: 0.0447 - acc: 0.9869\n",
      "Epoch 47/50\n",
      "305/305 [==============================] - 0s 1ms/step - loss: 0.0374 - acc: 0.9869\n",
      "Epoch 48/50\n",
      "305/305 [==============================] - 0s 1ms/step - loss: 0.0438 - acc: 0.9869\n",
      "Epoch 49/50\n",
      "305/305 [==============================] - 0s 1ms/step - loss: 0.0499 - acc: 0.9803\n",
      "Epoch 50/50\n",
      "305/305 [==============================] - 0s 1ms/step - loss: 0.0422 - acc: 0.9836\n",
      "precision: 0.8620689655172413 \n",
      "recall: 0.8333333333333334 \n",
      "f1: 0.847457627118644\n"
     ]
    },
    {
     "data": {
      "image/png": "[encoded data removed]",
      "text/plain": [
       "<Figure size 432x432 with 2 Axes>"
      ]
     },
     "metadata": {},
     "output_type": "display_data"
    }
   ],
   "source": [
    "X = df.copy()[X_cols]\n",
    "y = df.copy()[y_cols]\n",
    "X = pd.DataFrame(QuantileTransformer().fit_transform(X))\n",
    "X_train, X_test, y_train, y_test = train_test_split(X, y, test_size=0.3, random_state=0)\n",
    "model.fit(X_train, y_train,epochs=50, batch_size=1, verbose=1)\n",
    "y_pred = model.predict_classes(X_test)\n",
    "cm = confusion_matrix(y_test, y_pred)\n",
    "plt.figure(figsize = (6, 6))\n",
    "sns.heatmap(cm, annot=True, cmap=\"Greens\")\n",
    "print('precision:', precision_score(y_test, y_pred),\n",
    "      '\\nrecall:', recall_score(y_test, y_pred),\n",
    "      '\\nf1:', f1_score(y_test, y_pred))"
   ]
  },
  {
   "cell_type": "code",
   "execution_count": 15,
   "metadata": {},
   "outputs": [
    {
     "name": "stdout",
     "output_type": "stream",
     "text": [
      "Epoch 1/10\n",
      "305/305 [==============================] - 0s 1ms/step - loss: 0.0466 - acc: 0.9738\n",
      "Epoch 2/10\n",
      "305/305 [==============================] - 0s 1ms/step - loss: 0.0411 - acc: 0.9803\n",
      "Epoch 3/10\n",
      "305/305 [==============================] - 0s 813us/step - loss: 0.0434 - acc: 0.9803\n",
      "Epoch 4/10\n",
      "305/305 [==============================] - 0s 820us/step - loss: 0.0390 - acc: 0.9902\n",
      "Epoch 5/10\n",
      "305/305 [==============================] - 0s 946us/step - loss: 0.0413 - acc: 0.9836\n",
      "Epoch 6/10\n",
      "305/305 [==============================] - 0s 823us/step - loss: 0.0391 - acc: 0.9803\n",
      "Epoch 7/10\n",
      "305/305 [==============================] - 0s 829us/step - loss: 0.0472 - acc: 0.9836\n",
      "Epoch 8/10\n",
      "305/305 [==============================] - 0s 872us/step - loss: 0.0441 - acc: 0.9836\n",
      "Epoch 9/10\n",
      "305/305 [==============================] - 0s 955us/step - loss: 0.0415 - acc: 0.9836\n",
      "Epoch 10/10\n",
      "305/305 [==============================] - 0s 1ms/step - loss: 0.0435 - acc: 0.9738\n",
      "precision: 0.8620689655172413 \n",
      "recall: 0.8333333333333334 \n",
      "f1: 0.847457627118644\n"
     ]
    },
    {
     "data": {
      "image/png": "[encoded data removed]",
      "text/plain": [
       "<Figure size 432x432 with 2 Axes>"
      ]
     },
     "metadata": {},
     "output_type": "display_data"
    }
   ],
   "source": [
    "X = df.copy()[X_cols]\n",
    "y = df.copy()[y_cols]\n",
    "X = pd.DataFrame(QuantileTransformer().fit_transform(X))\n",
    "X_train, X_test, y_train, y_test = train_test_split(X, y, test_size=0.3, random_state=0)\n",
    "model.fit(X_train, y_train,epochs=10, batch_size=1, verbose=1)\n",
    "y_pred = model.predict_classes(X_test)\n",
    "cm = confusion_matrix(y_test, y_pred)\n",
    "plt.figure(figsize = (6, 6))\n",
    "sns.heatmap(cm, annot=True, cmap=\"Greens\")\n",
    "print('precision:', precision_score(y_test, y_pred),\n",
    "      '\\nrecall:', recall_score(y_test, y_pred),\n",
    "      '\\nf1:', f1_score(y_test, y_pred))"
   ]
  },
  {
   "cell_type": "code",
   "execution_count": 16,
   "metadata": {},
   "outputs": [
    {
     "data": {
      "text/plain": [
       "<matplotlib.legend.Legend at 0x20ccc0f2fd0>"
      ]
     },
     "execution_count": 16,
     "metadata": {},
     "output_type": "execute_result"
    },
    {
     "data": {
      "image/png": "[encoded data removed]",
      "text/plain": [
       "<Figure size 288x288 with 1 Axes>"
      ]
     },
     "metadata": {},
     "output_type": "display_data"
    },
    {
     "data": {
      "image/png": "[encoded data removed]",
      "text/plain": [
       "<Figure size 288x288 with 1 Axes>"
      ]
     },
     "metadata": {},
     "output_type": "display_data"
    },
    {
     "data": {
      "image/png": "[encoded data removed]",
      "text/plain": [
       "<Figure size 288x288 with 1 Axes>"
      ]
     },
     "metadata": {},
     "output_type": "display_data"
    }
   ],
   "source": [
    "df1 = df.copy()\n",
    "df1[X_cols] = StandardScaler().fit_transform(df1[X_cols])\n",
    "\n",
    "df2 = df.copy()\n",
    "df2[X_cols] = QuantileTransformer().fit_transform(df2[X_cols])\n",
    "\n",
    "sns.FacetGrid(df, hue=\"bid-bot?\", size=4, sharex=True).map(plt.scatter, \"followers\", \"followings\")\n",
    "plt.legend(['user', 'bid-bot'])\n",
    "sns.FacetGrid(df1, hue=\"bid-bot?\", size=4, sharex=True).map(plt.scatter, \"followers\", \"followings\")\n",
    "plt.legend(['user', 'bid-bot'])\n",
    "sns.FacetGrid(df2, hue=\"bid-bot?\", size=4, sharex=True).map(plt.scatter, \"followers\", \"followings\")\n",
    "plt.legend(['user', 'bid-bot'])"
   ]
  },
  {
   "cell_type": "code",
   "execution_count": null,
   "metadata": {},
   "outputs": [],
   "source": []
  }
 ],
 "metadata": {
  "kernelspec": {
   "display_name": "Python 3",
   "language": "python",
   "name": "python3"
  },
  "language_info": {
   "codemirror_mode": {
    "name": "ipython",
    "version": 3
   },
   "file_extension": ".py",
   "mimetype": "text/x-python",
   "name": "python",
   "nbconvert_exporter": "python",
   "pygments_lexer": "ipython3",
   "version": "3.6.5"
  }
 },
 "nbformat": 4,
 "nbformat_minor": 2
}
